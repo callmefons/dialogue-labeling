{
 "cells": [
  {
   "cell_type": "code",
   "execution_count": 6,
   "metadata": {},
   "outputs": [],
   "source": [
    "import itertools\n",
    "from gensim import models\n",
    "w = models.KeyedVectors.load_word2vec_format('GoogleNews-vectors-negative300.bin', binary=True)"
   ]
  },
  {
   "cell_type": "code",
   "execution_count": 7,
   "metadata": {},
   "outputs": [
    {
     "name": "stderr",
     "output_type": "stream",
     "text": [
      "/Users/tittaya/.pyenv/versions/anaconda3-5.3.1/lib/python3.7/site-packages/ipykernel_launcher.py:1: DeprecationWarning: Call to deprecated `wv` (Attribute will be removed in 4.0.0, use self instead).\n",
      "  \"\"\"Entry point for launching an IPython kernel.\n"
     ]
    }
   ],
   "source": [
    "model = w.wv"
   ]
  },
  {
   "cell_type": "code",
   "execution_count": 8,
   "metadata": {},
   "outputs": [],
   "source": [
    "concat = []"
   ]
  },
  {
   "cell_type": "code",
   "execution_count": 9,
   "metadata": {
    "scrolled": true
   },
   "outputs": [
    {
     "name": "stdout",
     "output_type": "stream",
     "text": [
      "1\n"
     ]
    },
    {
     "data": {
      "text/plain": [
       "['@oral-type  with @oral-material']"
      ]
     },
     "execution_count": 9,
     "metadata": {},
     "output_type": "execute_result"
    }
   ],
   "source": [
    "#### add-vital ####\n",
    "# activity = \"@oral-type\"\n",
    "# attr = [' with @oral-material']\n",
    "\n",
    "### oral ####\n",
    "# activity = \"@oral-type\"\n",
    "# attr = [' with @oral-material']\n",
    "\n",
    "#### assist-toilet ####\n",
    "activity = \"@oral-type\"\n",
    "attr = [' with @oral-material']\n",
    "\n",
    "#### prepare-meal ####\n",
    "# activity = \"@oral-type\"\n",
    "# attr = [' for @oral-material']\n",
    "\n",
    "size = len(attr)-1\n",
    "swaps = []\n",
    "\n",
    "#expansion\n",
    "for i in range(size):\n",
    "    arr = attr if i == 0 else swaps[i-1]     \n",
    "\n",
    "    swap = []\n",
    "    for j in range(len(attr)):\n",
    "        key = attr[j]\n",
    "        for att in arr:\n",
    "            if key not in att:\n",
    "                print(key+\" \"+att)\n",
    "                swap.append(key+\" \"+att)\n",
    "        print(\"------------------------------------\")\n",
    "        \n",
    "    swaps.append(swap)\n",
    "\n",
    "swaps.insert(0, attr)\n",
    "\n",
    "#concatenation\n",
    "swaps = list(itertools.chain.from_iterable(swaps))\n",
    "#map object tag\n",
    "activity += \" \"\n",
    "templates = list(map(activity.__add__, swaps))\n",
    "\n",
    "print(len(templates))\n",
    "templates"
   ]
  },
  {
   "cell_type": "code",
   "execution_count": 10,
   "metadata": {},
   "outputs": [],
   "source": [
    "#### add-vital ####\n",
    "# activity_similar = model.most_similar(\"pressure\",topn=10)\n",
    "# activity_similar = model.most_similar(\"temperature\",topn=10)\n",
    "# activity_similar = model.most_similar(\"pulse\",topn=10)\n",
    "# activity_similar = model.most_similar(\"weight\",topn=10)\n",
    "# activity_similar = model.most_similar(\"height\",topn=10)\n",
    "\n",
    "#### oral ####\n",
    "# activity_similar = model.most_similar(\"mouth\",topn=10)\n",
    "activity_similar = model.most_similar(\"denture\",topn=10)\n",
    "\n",
    "#### assist-toilet ####\n",
    "# activity_similar = model.most_similar(\"portable_toilet\",topn=10)\n",
    "# activity_similar = model.most_similar(\"urinal\",topn=10)\n",
    "\n",
    "#### change-diaper ####\n",
    "# activity_similar = model.most_similar(\"diaper\",topn=10)\n",
    "\n",
    "#### prepare-meal ####\n",
    "# activity_similar = model.most_similar(\"rice\",topn=10)\n",
    "# activity_similar = model.most_similar(\"noodle\",topn=10)\n",
    "# activity_similar = model.most_similar(\"soup\",topn=10)\n",
    "# activity_similar = model.most_similar(\"fruit\",topn=10)\n",
    "\n",
    "#### assist-bath ####\n",
    "# activity_similar = model.most_similar(\"bath\",topn=10)\n",
    "# activity_similar = model.most_similar(\"wipe\",topn=10)"
   ]
  },
  {
   "cell_type": "code",
   "execution_count": 14,
   "metadata": {},
   "outputs": [
    {
     "name": "stdout",
     "output_type": "stream",
     "text": [
      "('dentures', 0.6488670110702515)\n",
      "('orthodontic', 0.5708727836608887)\n",
      "('dental', 0.5523703098297119)\n",
      "('partial_denture', 0.5353677868843079)\n",
      "('orthodontic_braces', 0.5302924513816833)\n",
      "('Denture', 0.5278005003929138)\n",
      "('porcelain_veneers', 0.5263290405273438)\n",
      "('porcelain_crowns', 0.523017942905426)\n",
      "('partial_dentures', 0.520785391330719)\n",
      "('Lumineers', 0.504489004611969)\n"
     ]
    },
    {
     "data": {
      "text/plain": [
       "['dentures',\n",
       " 'orthodontic',\n",
       " 'dental',\n",
       " 'partial denture',\n",
       " 'orthodontic braces',\n",
       " 'denture',\n",
       " 'porcelain veneers',\n",
       " 'porcelain crowns',\n",
       " 'partial dentures',\n",
       " 'lumineers']"
      ]
     },
     "execution_count": 14,
     "metadata": {},
     "output_type": "execute_result"
    }
   ],
   "source": [
    "activity_list  = []\n",
    "\n",
    "for word in activity_similar:\n",
    "    print(word)\n",
    "    if word[1] > float(0.5):\n",
    "        word = word[0].lower().split('_')\n",
    "        s = \"\"\n",
    "        for w in word:\n",
    "            s += w + \" \"\n",
    "        activity_list.append(s.strip())\n",
    "\n",
    "activity_list = list(dict.fromkeys(activity_list))\n",
    "activity_list"
   ]
  },
  {
   "cell_type": "code",
   "execution_count": 47,
   "metadata": {},
   "outputs": [],
   "source": [
    "#### add-vital ####\n",
    "# materials = ['systolic', 'diastolic', 'mm_Hg']\n",
    "# materials = ['celcius']\n",
    "# materials = ['bpm']\n",
    "# materials = ['kg']\n",
    "# materials = ['cm']\n",
    "\n",
    "#### oral ####\n",
    "materials = ['interdental_brushes', 'dental_floss']\n",
    "# materials = ['detergent', 'water']\n",
    "\n",
    "#### assist-toilet ####\n",
    "# materials = ['toilet']\n",
    "# materials = ['bed']\n",
    "\n",
    "#### change-diaper ####\n",
    "# materials = ['toilet']\n",
    "# materials = ['bed']\n",
    "\n",
    "#### prepare-meal ####\n",
    "# materials = ['breakfast', 'lunch', 'dinner', 'meal']\n",
    "\n",
    "#### add-bath ####\n",
    "# materials = ['lift', 'grab', 'stool']\n"
   ]
  },
  {
   "cell_type": "code",
   "execution_count": 48,
   "metadata": {},
   "outputs": [
    {
     "data": {
      "text/plain": [
       "[[('interdental_cleaner', 0.6550760865211487),\n",
       "  ('fluoride_rinse', 0.6283814907073975),\n",
       "  ('toothbrushes_dental_floss', 0.6233841180801392),\n",
       "  ('soft_bristled_toothbrush', 0.6227372288703918),\n",
       "  ('interproximal', 0.6104869842529297),\n",
       "  ('Listerine_Antiseptic', 0.6083276271820068),\n",
       "  ('mild_cleanser', 0.6063144207000732),\n",
       "  ('floss', 0.5948752760887146),\n",
       "  ('fluoridated_toothpaste', 0.5907931327819824),\n",
       "  ('toothbrush_toothpaste', 0.5903710126876831)],\n",
       " [('floss', 0.5926601886749268),\n",
       "  ('toothbrush', 0.5631864070892334),\n",
       "  ('fingernail_clippers', 0.5621104836463928),\n",
       "  ('interdental_cleaner', 0.5589377880096436),\n",
       "  ('toothpaste_toothbrushes', 0.5565766096115112),\n",
       "  ('toothbrush_toothpaste', 0.5538150072097778),\n",
       "  ('toothbrushes_dental_floss', 0.5519784092903137),\n",
       "  ('tooth_brushes', 0.5515143275260925),\n",
       "  ('lice_comb', 0.5432462692260742),\n",
       "  ('interdental_brushes', 0.5413237810134888)]]"
      ]
     },
     "execution_count": 48,
     "metadata": {},
     "output_type": "execute_result"
    }
   ],
   "source": [
    "material_similar = []\n",
    "for word in materials:\n",
    "    if word in model.vocab:\n",
    "        material_similar.append(model.most_similar(word,topn=10))\n",
    "\n",
    "material_similar"
   ]
  },
  {
   "cell_type": "code",
   "execution_count": 865,
   "metadata": {},
   "outputs": [],
   "source": [
    "# material_similar = material_similar[0]\n",
    "# material_list  = []\n",
    "\n",
    "# for word in material_similar:\n",
    "# #     print(word)\n",
    "#     if word[1] > float(0.3):\n",
    "#         word = word[0].lower().split('_')\n",
    "#         s = \"\"\n",
    "#         for w in word:\n",
    "#             s += w + \" \"\n",
    "#         material_list.append(s.strip())\n",
    "\n",
    "# material_list = list(dict.fromkeys(material_list))\n",
    "# material_list"
   ]
  },
  {
   "cell_type": "code",
   "execution_count": 866,
   "metadata": {},
   "outputs": [],
   "source": [
    "material_similar = list(itertools.chain.from_iterable(material_similar))"
   ]
  },
  {
   "cell_type": "code",
   "execution_count": 867,
   "metadata": {},
   "outputs": [
    {
     "data": {
      "text/plain": [
       "['lifting',\n",
       " 'lifted',\n",
       " 'lifts',\n",
       " 'lift',\n",
       " 'hoist',\n",
       " 'boost',\n",
       " 'propel',\n",
       " 'nudge',\n",
       " 'push',\n",
       " 'grabbing',\n",
       " 'snatch',\n",
       " 'grabbed',\n",
       " 'steal',\n",
       " 'grab',\n",
       " 'grabs',\n",
       " 'wrest',\n",
       " 'snare',\n",
       " 'pilfer',\n",
       " 'stools',\n",
       " 'based dna sdna',\n",
       " 'stool',\n",
       " 'worktable',\n",
       " 'barstool',\n",
       " 'sofa',\n",
       " 'bar stool',\n",
       " 'footstool',\n",
       " 'porcelain throne',\n",
       " 'swivel chair']"
      ]
     },
     "execution_count": 867,
     "metadata": {},
     "output_type": "execute_result"
    }
   ],
   "source": [
    "# similar_list = material_list\n",
    "similar_list = []\n",
    "for word in material_similar:\n",
    "    word = word[0].lower().split('_')\n",
    "    s = \"\"\n",
    "    for w in word:\n",
    "        s += w + \" \"\n",
    "#     word = list(itertools.chain.from_iterable(word))\n",
    "    similar_list.append(s.strip())\n",
    "\n",
    "similar_list = list(dict.fromkeys(similar_list))\n",
    "similar_list"
   ]
  },
  {
   "cell_type": "code",
   "execution_count": 868,
   "metadata": {},
   "outputs": [
    {
     "data": {
      "text/plain": [
       "['lifting',\n",
       " 'lifted',\n",
       " 'lifts',\n",
       " 'lift',\n",
       " 'hoist',\n",
       " 'boost',\n",
       " 'propel',\n",
       " 'nudge',\n",
       " 'push',\n",
       " 'grabbing',\n",
       " 'snatch',\n",
       " 'grabbed',\n",
       " 'steal',\n",
       " 'grab',\n",
       " 'grabs',\n",
       " 'wrest',\n",
       " 'snare',\n",
       " 'pilfer',\n",
       " 'stools',\n",
       " 'based dna sdna',\n",
       " 'stool',\n",
       " 'worktable',\n",
       " 'barstool',\n",
       " 'sofa',\n",
       " 'bar stool',\n",
       " 'footstool',\n",
       " 'porcelain throne',\n",
       " 'swivel chair']"
      ]
     },
     "execution_count": 868,
     "metadata": {},
     "output_type": "execute_result"
    }
   ],
   "source": [
    "import re\n",
    "clean_similar_list = [re.sub('[^a-zA-Z]+', ' ', _).strip() for _ in similar_list]\n",
    "filter_out = ['']\n",
    "clean_similar_list = [a for a in clean_similar_list if a not in filter_out]\n",
    "clean_similar_list = list(dict.fromkeys(clean_similar_list))\n",
    "clean_similar_list"
   ]
  },
  {
   "cell_type": "code",
   "execution_count": 869,
   "metadata": {},
   "outputs": [
    {
     "data": {
      "text/plain": [
       "['lifting',\n",
       " 'lifted',\n",
       " 'lifts',\n",
       " 'lift',\n",
       " 'hoist',\n",
       " 'boost',\n",
       " 'propel',\n",
       " 'nudge',\n",
       " 'push',\n",
       " 'grabbing',\n",
       " 'snatch',\n",
       " 'grabbed',\n",
       " 'steal',\n",
       " 'grab',\n",
       " 'grabs',\n",
       " 'wrest',\n",
       " 'snare',\n",
       " 'pilfer',\n",
       " 'stools',\n",
       " 'based dna sdna',\n",
       " 'stool',\n",
       " 'worktable',\n",
       " 'barstool',\n",
       " 'sofa',\n",
       " 'bar stool',\n",
       " 'footstool',\n",
       " 'porcelain throne',\n",
       " 'swivel chair']"
      ]
     },
     "execution_count": 869,
     "metadata": {},
     "output_type": "execute_result"
    }
   ],
   "source": [
    "# import random\n",
    "# entity = [str(random.randrange(140, 180)) + \" \" + e for e in clean_similar_list]\n",
    "# entity\n",
    "\n",
    "entity = clean_similar_list\n",
    "entity"
   ]
  },
  {
   "cell_type": "code",
   "execution_count": 870,
   "metadata": {
    "scrolled": false
   },
   "outputs": [
    {
     "name": "stdout",
     "output_type": "stream",
     "text": [
      "112\n"
     ]
    }
   ],
   "source": [
    "# concat = []\n",
    "attr2 = [activity, '@oral-material']\n",
    "types = ['@oral-type ']\n",
    "\n",
    "combine = [activity_list, entity]\n",
    "\n",
    "re = []\n",
    "for i in range(len(combine)):\n",
    "    words = combine[i]\n",
    "    arr = []\n",
    "    tag = attr2[i]\n",
    "    if i == 0:\n",
    "        for temp in templates:\n",
    "            if temp.find(tag) != -1:\n",
    "                for word in words:\n",
    "                    arr.append(temp.replace(tag, word))\n",
    "            else:\n",
    "                arr.append(temp) \n",
    "    else:\n",
    "        for r in re:\n",
    "            if r.find(tag) != -1:\n",
    "                for word in words:\n",
    "                    arr.append(r.replace(tag, word))\n",
    "            else:\n",
    "                arr.append(r) \n",
    "\n",
    "    re = arr\n",
    "\n",
    "concat.append(re)\n",
    "print(len(re))\n",
    "# concat"
   ]
  },
  {
   "cell_type": "code",
   "execution_count": 871,
   "metadata": {},
   "outputs": [
    {
     "name": "stdout",
     "output_type": "stream",
     "text": [
      "280\n"
     ]
    }
   ],
   "source": [
    "concat2 = list(itertools.chain.from_iterable(concat))\n",
    "print(len(concat2))"
   ]
  },
  {
   "cell_type": "code",
   "execution_count": 872,
   "metadata": {},
   "outputs": [],
   "source": [
    "### add-vital ####\n",
    "# sent = [\n",
    "#     'add',\n",
    "#     'i add',\n",
    "#     'please add',\n",
    "#     'can you add',\n",
    "# ]\n",
    "\n",
    "#### oral ####\n",
    "# sent = [\n",
    "#     'clean',\n",
    "#     'i clean',\n",
    "#     'i have help to clean',\n",
    "# ]\n",
    "\n",
    "## assist-toliet ####\n",
    "# sent = [\n",
    "#     'help to use',\n",
    "#     'i have helped to use',\n",
    "# ]\n",
    "\n",
    "## change-diaper ####\n",
    "# sent = [\n",
    "#     'help to change',\n",
    "#     'i have helped to change',\n",
    "# ]\n",
    "\n",
    "#### prepare-meal ####\n",
    "# sent = [\n",
    "#     'prepare',\n",
    "#     'i prepare',\n",
    "#     'i have help to prepare',\n",
    "# ]\n",
    "\n",
    "\n",
    "# ### assist-bath ####\n",
    "sent = [\n",
    "    'help to',\n",
    "    'i have helped to',\n",
    "]\n",
    "\n"
   ]
  },
  {
   "cell_type": "code",
   "execution_count": 873,
   "metadata": {
    "scrolled": false
   },
   "outputs": [
    {
     "name": "stdout",
     "output_type": "stream",
     "text": [
      "560\n"
     ]
    }
   ],
   "source": [
    "# intent = 'add-vital'\n",
    "# intent = 'clean-oral'\n",
    "# intent = 'assist-toilet'\n",
    "# intent = 'change-diaper'\n",
    "# intent = \"prepare-meal\"\n",
    "intent = 'assist-bath'\n",
    "\n",
    "\n",
    "paraphrasing = []\n",
    "label = []\n",
    "for word in sent:\n",
    "    for c in concat2:\n",
    "        new_word = word + \" \" + c\n",
    "        paraphrasing.append(new_word)\n",
    "        label.append(intent)\n",
    "\n",
    "print(len(paraphrasing))"
   ]
  },
  {
   "cell_type": "code",
   "execution_count": 875,
   "metadata": {},
   "outputs": [
    {
     "data": {
      "text/html": [
       "<div>\n",
       "<style scoped>\n",
       "    .dataframe tbody tr th:only-of-type {\n",
       "        vertical-align: middle;\n",
       "    }\n",
       "\n",
       "    .dataframe tbody tr th {\n",
       "        vertical-align: top;\n",
       "    }\n",
       "\n",
       "    .dataframe thead th {\n",
       "        text-align: right;\n",
       "    }\n",
       "</style>\n",
       "<table border=\"1\" class=\"dataframe\">\n",
       "  <thead>\n",
       "    <tr style=\"text-align: right;\">\n",
       "      <th></th>\n",
       "      <th>text</th>\n",
       "      <th>label</th>\n",
       "    </tr>\n",
       "  </thead>\n",
       "  <tbody>\n",
       "    <tr>\n",
       "      <th>0</th>\n",
       "      <td>help to baths with lifting</td>\n",
       "      <td>assist-bath</td>\n",
       "    </tr>\n",
       "    <tr>\n",
       "      <th>1</th>\n",
       "      <td>help to baths with lifted</td>\n",
       "      <td>assist-bath</td>\n",
       "    </tr>\n",
       "    <tr>\n",
       "      <th>2</th>\n",
       "      <td>help to baths with lifts</td>\n",
       "      <td>assist-bath</td>\n",
       "    </tr>\n",
       "    <tr>\n",
       "      <th>3</th>\n",
       "      <td>help to baths with lift</td>\n",
       "      <td>assist-bath</td>\n",
       "    </tr>\n",
       "    <tr>\n",
       "      <th>4</th>\n",
       "      <td>help to baths with hoist</td>\n",
       "      <td>assist-bath</td>\n",
       "    </tr>\n",
       "  </tbody>\n",
       "</table>\n",
       "</div>"
      ],
      "text/plain": [
       "                         text        label\n",
       "0  help to baths with lifting  assist-bath\n",
       "1   help to baths with lifted  assist-bath\n",
       "2    help to baths with lifts  assist-bath\n",
       "3     help to baths with lift  assist-bath\n",
       "4    help to baths with hoist  assist-bath"
      ]
     },
     "execution_count": 875,
     "metadata": {},
     "output_type": "execute_result"
    }
   ],
   "source": [
    "# Import pandas library \n",
    "import pandas as pd \n",
    "  \n",
    "list_of_tuples = list(zip(paraphrasing, label))  \n",
    "\n",
    "# Create the pandas DataFrame \n",
    "df = pd.DataFrame(list_of_tuples, columns = ['text', \"label\"]) \n",
    "  \n",
    "# print dataframe. \n",
    "df.head()"
   ]
  },
  {
   "cell_type": "code",
   "execution_count": 876,
   "metadata": {},
   "outputs": [],
   "source": [
    "df.to_csv('data/nursing/'+ intent +'.csv')"
   ]
  }
 ],
 "metadata": {
  "kernelspec": {
   "display_name": "Python 3",
   "language": "python",
   "name": "python3"
  },
  "language_info": {
   "codemirror_mode": {
    "name": "ipython",
    "version": 3
   },
   "file_extension": ".py",
   "mimetype": "text/x-python",
   "name": "python",
   "nbconvert_exporter": "python",
   "pygments_lexer": "ipython3",
   "version": "3.7.2"
  }
 },
 "nbformat": 4,
 "nbformat_minor": 2
}
